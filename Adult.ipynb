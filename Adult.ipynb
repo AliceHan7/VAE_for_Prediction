{
  "nbformat": 4,
  "nbformat_minor": 0,
  "metadata": {
    "accelerator": "GPU",
    "colab": {
      "name": "Adult.ipynb",
      "provenance": [],
      "collapsed_sections": [],
      "machine_shape": "hm"
    },
    "kernelspec": {
      "display_name": "Python 3",
      "language": "python",
      "name": "python3"
    },
    "language_info": {
      "codemirror_mode": {
        "name": "ipython",
        "version": 3
      },
      "file_extension": ".py",
      "mimetype": "text/x-python",
      "name": "python",
      "nbconvert_exporter": "python",
      "pygments_lexer": "ipython3",
      "version": "3.6.8"
    }
  },
  "cells": [
    {
      "cell_type": "code",
      "metadata": {
        "id": "SQub2HI7sC4l",
        "colab_type": "code",
        "outputId": "9c838d79-316b-4066-b6db-733c70b66e00",
        "colab": {
          "base_uri": "https://localhost:8080/",
          "height": 34
        }
      },
      "source": [
        "from google.colab import drive\n",
        "drive.mount('/content/drive')"
      ],
      "execution_count": 0,
      "outputs": [
        {
          "output_type": "stream",
          "text": [
            "Drive already mounted at /content/drive; to attempt to forcibly remount, call drive.mount(\"/content/drive\", force_remount=True).\n"
          ],
          "name": "stdout"
        }
      ]
    },
    {
      "cell_type": "code",
      "metadata": {
        "id": "H8t7iJ3isFRk",
        "colab_type": "code",
        "colab": {}
      },
      "source": [
        "path = \"/content/drive/My Drive/Adult/data/\""
      ],
      "execution_count": 0,
      "outputs": []
    },
    {
      "cell_type": "code",
      "metadata": {
        "id": "adiV1huKezap",
        "colab_type": "code",
        "outputId": "9418fbdc-e081-4e19-812f-0886f458ec17",
        "colab": {
          "base_uri": "https://localhost:8080/",
          "height": 102
        }
      },
      "source": [
        "%tensorflow_version 1.4"
      ],
      "execution_count": 0,
      "outputs": [
        {
          "output_type": "stream",
          "text": [
            "`%tensorflow_version` only switches the major version: 1.x or 2.x.\n",
            "You set: `1.4`. This will be interpreted as: `1.x`.\n",
            "\n",
            "\n",
            "TensorFlow is already loaded. Please restart the runtime to change versions.\n"
          ],
          "name": "stdout"
        }
      ]
    },
    {
      "cell_type": "code",
      "metadata": {
        "colab_type": "code",
        "id": "vv3mnF0HWfpC",
        "colab": {}
      },
      "source": [
        "# Load libraries\n",
        "import os\n",
        "import pandas as pd\n",
        "import numpy as np\n",
        "from sklearn import metrics\n",
        "from pandas.plotting import scatter_matrix\n",
        "import matplotlib.pyplot as plt\n",
        "from sklearn import model_selection\n",
        "from sklearn.metrics import classification_report\n",
        "from sklearn.metrics import confusion_matrix\n",
        "from sklearn.metrics import accuracy_score\n",
        "from sklearn.linear_model import LogisticRegression\n",
        "from sklearn.tree import DecisionTreeClassifier\n",
        "from sklearn.ensemble import RandomForestClassifier\n",
        "from sklearn.neighbors import KNeighborsClassifier\n",
        "from sklearn.discriminant_analysis import LinearDiscriminantAnalysis\n",
        "from sklearn.naive_bayes import GaussianNB\n",
        "from sklearn import preprocessing\n",
        "from sklearn.svm import SVC\n",
        "from sklearn import tree\n",
        "from numpy import linalg as LA\n",
        "\n",
        "from sklearn.model_selection import train_test_split\n",
        "\n",
        "# Load dataset\n",
        "\n",
        "#url = \"./data/\"\n",
        "#df = pd.read_csv(url)\n",
        "\n",
        "\n",
        "    \n",
        "filename = os.path.join(path,\"adult.csv\")    \n",
        "df = pd.read_csv(filename)\n",
        "\n"
      ],
      "execution_count": 0,
      "outputs": []
    },
    {
      "cell_type": "code",
      "metadata": {
        "colab_type": "code",
        "id": "PFr3pdoGWfpL",
        "colab": {}
      },
      "source": [
        "col_names = df.columns\n",
        "for c in col_names:\n",
        "    df[c] = df[c].replace(\"?\", np.NaN)\n",
        "\n",
        "df = df.apply(lambda x:x.fillna(x.value_counts().index[0]))"
      ],
      "execution_count": 0,
      "outputs": []
    },
    {
      "cell_type": "code",
      "metadata": {
        "colab_type": "code",
        "id": "sDBuK6SQWfpO",
        "colab": {}
      },
      "source": [
        "df.replace(['Divorced', 'Married-AF-spouse', \n",
        "              'Married-civ-spouse', 'Married-spouse-absent', \n",
        "              'Never-married','Separated','Widowed'],\n",
        "             ['divorced','married','married','married',\n",
        "              'not married','not married','not married'], inplace = True)\n",
        "#df.head(10)"
      ],
      "execution_count": 0,
      "outputs": []
    },
    {
      "cell_type": "code",
      "metadata": {
        "colab_type": "code",
        "id": "j6O2936MWfpU",
        "colab": {}
      },
      "source": [
        "from sklearn.preprocessing import LabelEncoder, OneHotEncoder\n",
        "labelEncoder = preprocessing.LabelEncoder()\n",
        "category_col =['workclass', 'race','marital-status', 'gender', 'income'] \n",
        "\n",
        "for col in category_col:\n",
        "    df[col] = labelEncoder.fit_transform(df[col])\n"
      ],
      "execution_count": 0,
      "outputs": []
    },
    {
      "cell_type": "code",
      "metadata": {
        "colab_type": "code",
        "id": "_G2jW2-FWfpg",
        "colab": {}
      },
      "source": [
        "category_col_1 =['workclass', 'education', 'occupation',\n",
        "               'relationship','native-country'] \n",
        "\n",
        "df_2 = pd.get_dummies(df, columns=category_col_1, drop_first=True)"
      ],
      "execution_count": 0,
      "outputs": []
    },
    {
      "cell_type": "code",
      "metadata": {
        "colab_type": "code",
        "id": "jcJCSTJVWfpl",
        "colab": {}
      },
      "source": [
        "dataframe=df_2.drop('fnlwgt',1)\n",
        "dataframe =dataframe[[c for c in dataframe if c not in ['income']] + ['income']]\n",
        "#dataframe.head(20)"
      ],
      "execution_count": 0,
      "outputs": []
    },
    {
      "cell_type": "code",
      "metadata": {
        "colab_type": "code",
        "id": "gq0XfudXWfpp",
        "colab": {}
      },
      "source": [
        "## making a copy of the data frame\n",
        "dataframe.to_csv('adult_kearsNN.csv',index=False)"
      ],
      "execution_count": 0,
      "outputs": []
    },
    {
      "cell_type": "code",
      "metadata": {
        "colab_type": "code",
        "id": "5GU3r0svWfps",
        "outputId": "1b239155-5bc8-4932-c406-03014da56f7a",
        "colab": {
          "base_uri": "https://localhost:8080/",
          "height": 85
        }
      },
      "source": [
        "X = dataframe.iloc[:, 0:88].values\n",
        "Y = dataframe.iloc[:, 88].values\n",
        "\n",
        "\n",
        "\n",
        "from sklearn.model_selection import train_test_split\n",
        "\n",
        "X_train, X_test, Y_train, Y_test = train_test_split(X, Y, test_size = 0.2)\n",
        "\n",
        "from sklearn.preprocessing import StandardScaler\n",
        "sc = StandardScaler()\n",
        "X_train = sc.fit_transform(X_train)\n",
        "X_test = sc.transform(X_test)\n",
        "\n",
        "\n",
        "#X_train = X_train.T\n",
        "#X_test = X_test.T\n",
        "\n",
        "Y_train = np.reshape(Y_train,(Y_train.shape[0],1))\n",
        "Y_test = np.reshape(Y_test,(Y_test.shape[0],1))\n",
        "\n",
        "print(X_train.shape)\n",
        "print(X_test.shape)\n",
        "print(Y_train.shape)\n",
        "print(Y_test.shape)"
      ],
      "execution_count": 0,
      "outputs": [
        {
          "output_type": "stream",
          "text": [
            "(39073, 88)\n",
            "(9769, 88)\n",
            "(39073, 1)\n",
            "(9769, 1)\n"
          ],
          "name": "stdout"
        }
      ]
    },
    {
      "cell_type": "code",
      "metadata": {
        "id": "scJ2GBZdeixM",
        "colab_type": "code",
        "colab": {}
      },
      "source": [
        "import warnings\n",
        "warnings.filterwarnings('ignore')\n",
        "import numpy as np\n",
        "import pandas as pd\n",
        "import matplotlib.pyplot as plt\n",
        "%matplotlib inline\n",
        "from keras import models,layers\n",
        "from keras import applications\n",
        "import glob2 as glob\n",
        "from numpy import random"
      ],
      "execution_count": 0,
      "outputs": []
    },
    {
      "cell_type": "code",
      "metadata": {
        "id": "FdX_-3g7ei5r",
        "colab_type": "code",
        "outputId": "6995d241-f1b5-4e2b-9061-d1a15d1e20ae",
        "colab": {
          "base_uri": "https://localhost:8080/",
          "height": 493
        }
      },
      "source": [
        "# dimensionality of the latents space \n",
        "embedding_dim = 32 \n",
        "\n",
        "#Input layer\n",
        "input_img = layers.Input(shape=(88,))  \n",
        "\n",
        "#Encoding layer\n",
        "encoded = layers.Dense(embedding_dim, activation='relu')(input_img)\n",
        "\n",
        "#Decoding layer\n",
        "decoded = layers.Dense(88,activation='relu')(encoded) \n",
        "\n",
        "#Autoencoder --> in this API Model, we define the Input tensor and the output layer\n",
        "#wraps the 2 layers of Encoder e Decoder\n",
        "autoencoder = models.Model(input_img,decoded)\n",
        "autoencoder.summary()\n",
        "\n",
        "#Encoder\n",
        "encoder = models.Model(input_img,encoded)\n",
        "encoder.summary()\n",
        "\n",
        "#Decoder\n",
        "encoded_input = layers.Input(shape=(embedding_dim,))\n",
        "decoder_layers = autoencoder.layers[-1]  #applying the last layer\n",
        "decoder = models.Model(encoded_input,decoder_layers(encoded_input))\n",
        "\n",
        "print(input_img)\n",
        "print(encoded)"
      ],
      "execution_count": 0,
      "outputs": [
        {
          "output_type": "stream",
          "text": [
            "Model: \"model_4\"\n",
            "_________________________________________________________________\n",
            "Layer (type)                 Output Shape              Param #   \n",
            "=================================================================\n",
            "input_3 (InputLayer)         (None, 88)                0         \n",
            "_________________________________________________________________\n",
            "dense_3 (Dense)              (None, 32)                2848      \n",
            "_________________________________________________________________\n",
            "dense_4 (Dense)              (None, 88)                2904      \n",
            "=================================================================\n",
            "Total params: 5,752\n",
            "Trainable params: 5,752\n",
            "Non-trainable params: 0\n",
            "_________________________________________________________________\n",
            "Model: \"model_5\"\n",
            "_________________________________________________________________\n",
            "Layer (type)                 Output Shape              Param #   \n",
            "=================================================================\n",
            "input_3 (InputLayer)         (None, 88)                0         \n",
            "_________________________________________________________________\n",
            "dense_3 (Dense)              (None, 32)                2848      \n",
            "=================================================================\n",
            "Total params: 2,848\n",
            "Trainable params: 2,848\n",
            "Non-trainable params: 0\n",
            "_________________________________________________________________\n",
            "Tensor(\"input_3:0\", shape=(?, 88), dtype=float32)\n",
            "Tensor(\"dense_3/Relu:0\", shape=(?, 32), dtype=float32)\n"
          ],
          "name": "stdout"
        }
      ]
    },
    {
      "cell_type": "code",
      "metadata": {
        "id": "KnFs4dsuejBK",
        "colab_type": "code",
        "colab": {}
      },
      "source": [
        "autoencoder.compile(\n",
        "    optimizer='adadelta',  #backpropagation Gradient Descent\n",
        "    loss='binary_crossentropy'\n",
        ")"
      ],
      "execution_count": 0,
      "outputs": []
    },
    {
      "cell_type": "code",
      "metadata": {
        "id": "7JDSQTZBejHq",
        "colab_type": "code",
        "colab": {}
      },
      "source": [
        "from keras.datasets import mnist\n",
        "import numpy as np\n"
      ],
      "execution_count": 0,
      "outputs": []
    },
    {
      "cell_type": "code",
      "metadata": {
        "id": "Jip2Lu7zf362",
        "colab_type": "code",
        "outputId": "2bb77123-8a8c-47cc-e5b8-5d6bddac133b",
        "colab": {
          "base_uri": "https://localhost:8080/",
          "height": 1000
        }
      },
      "source": [
        "history = autoencoder.fit(X_train,X_train,epochs=50,batch_size=256,shuffle=True,\n",
        "                validation_data=(X_test,X_test))"
      ],
      "execution_count": 0,
      "outputs": [
        {
          "output_type": "stream",
          "text": [
            "Train on 39073 samples, validate on 9769 samples\n",
            "Epoch 1/50\n",
            "39073/39073 [==============================] - 1s 17us/step - loss: -0.2950 - val_loss: -0.6298\n",
            "Epoch 2/50\n",
            "39073/39073 [==============================] - 1s 13us/step - loss: -0.7953 - val_loss: -0.9148\n",
            "Epoch 3/50\n",
            "39073/39073 [==============================] - 1s 14us/step - loss: -1.0606 - val_loss: -1.1411\n",
            "Epoch 4/50\n",
            "39073/39073 [==============================] - 1s 14us/step - loss: -1.2416 - val_loss: -1.3376\n",
            "Epoch 5/50\n",
            "39073/39073 [==============================] - 1s 13us/step - loss: -1.4466 - val_loss: -1.5224\n",
            "Epoch 6/50\n",
            "39073/39073 [==============================] - 1s 14us/step - loss: -1.5997 - val_loss: -1.6376\n",
            "Epoch 7/50\n",
            "39073/39073 [==============================] - 1s 13us/step - loss: -1.7065 - val_loss: -1.7507\n",
            "Epoch 8/50\n",
            "39073/39073 [==============================] - 1s 13us/step - loss: -1.8214 - val_loss: -1.8640\n",
            "Epoch 9/50\n",
            "39073/39073 [==============================] - 1s 13us/step - loss: -1.9270 - val_loss: -1.9728\n",
            "Epoch 10/50\n",
            "39073/39073 [==============================] - 1s 13us/step - loss: -2.0318 - val_loss: -2.0607\n",
            "Epoch 11/50\n",
            "39073/39073 [==============================] - 1s 13us/step - loss: -2.1220 - val_loss: -2.1472\n",
            "Epoch 12/50\n",
            "39073/39073 [==============================] - 1s 13us/step - loss: -2.2033 - val_loss: -2.2331\n",
            "Epoch 13/50\n",
            "39073/39073 [==============================] - 1s 14us/step - loss: -2.2782 - val_loss: -2.2972\n",
            "Epoch 14/50\n",
            "39073/39073 [==============================] - 1s 14us/step - loss: -2.3449 - val_loss: -2.3573\n",
            "Epoch 15/50\n",
            "39073/39073 [==============================] - 1s 13us/step - loss: -2.3921 - val_loss: -2.3981\n",
            "Epoch 16/50\n",
            "39073/39073 [==============================] - 1s 14us/step - loss: -2.4319 - val_loss: -2.4382\n",
            "Epoch 17/50\n",
            "39073/39073 [==============================] - 1s 13us/step - loss: -2.4727 - val_loss: -2.4773\n",
            "Epoch 18/50\n",
            "39073/39073 [==============================] - 1s 13us/step - loss: -2.5066 - val_loss: -2.5027\n",
            "Epoch 19/50\n",
            "39073/39073 [==============================] - 1s 14us/step - loss: -2.5293 - val_loss: -2.5228\n",
            "Epoch 20/50\n",
            "39073/39073 [==============================] - 1s 13us/step - loss: -2.5511 - val_loss: -2.5468\n",
            "Epoch 21/50\n",
            "39073/39073 [==============================] - 1s 13us/step - loss: -2.5770 - val_loss: -2.5702\n",
            "Epoch 22/50\n",
            "39073/39073 [==============================] - 1s 13us/step - loss: -2.5953 - val_loss: -2.5866\n",
            "Epoch 23/50\n",
            "39073/39073 [==============================] - 1s 13us/step - loss: -2.6125 - val_loss: -2.6084\n",
            "Epoch 24/50\n",
            "39073/39073 [==============================] - 1s 13us/step - loss: -2.6329 - val_loss: -2.6248\n",
            "Epoch 25/50\n",
            "39073/39073 [==============================] - 1s 13us/step - loss: -2.6462 - val_loss: -2.6374\n",
            "Epoch 26/50\n",
            "39073/39073 [==============================] - 1s 14us/step - loss: -2.6574 - val_loss: -2.6429\n",
            "Epoch 27/50\n",
            "39073/39073 [==============================] - 1s 13us/step - loss: -2.6652 - val_loss: -2.6547\n",
            "Epoch 28/50\n",
            "39073/39073 [==============================] - 1s 14us/step - loss: -2.6754 - val_loss: -2.6642\n",
            "Epoch 29/50\n",
            "39073/39073 [==============================] - 1s 13us/step - loss: -2.6852 - val_loss: -2.6726\n",
            "Epoch 30/50\n",
            "39073/39073 [==============================] - 1s 13us/step - loss: -2.6936 - val_loss: -2.6823\n",
            "Epoch 31/50\n",
            "39073/39073 [==============================] - 1s 13us/step - loss: -2.7021 - val_loss: -2.6907\n",
            "Epoch 32/50\n",
            "39073/39073 [==============================] - 1s 13us/step - loss: -2.7095 - val_loss: -2.6968\n",
            "Epoch 33/50\n",
            "39073/39073 [==============================] - 1s 14us/step - loss: -2.7168 - val_loss: -2.7021\n",
            "Epoch 34/50\n",
            "39073/39073 [==============================] - 1s 14us/step - loss: -2.7209 - val_loss: -2.7089\n",
            "Epoch 35/50\n",
            "39073/39073 [==============================] - 1s 13us/step - loss: -2.7259 - val_loss: -2.7118\n",
            "Epoch 36/50\n",
            "39073/39073 [==============================] - 1s 14us/step - loss: -2.7307 - val_loss: -2.7166\n",
            "Epoch 37/50\n",
            "39073/39073 [==============================] - 1s 13us/step - loss: -2.7359 - val_loss: -2.7211\n",
            "Epoch 38/50\n",
            "39073/39073 [==============================] - 1s 13us/step - loss: -2.7392 - val_loss: -2.7251\n",
            "Epoch 39/50\n",
            "39073/39073 [==============================] - 1s 13us/step - loss: -2.7429 - val_loss: -2.7274\n",
            "Epoch 40/50\n",
            "39073/39073 [==============================] - 1s 13us/step - loss: -2.7455 - val_loss: -2.7302\n",
            "Epoch 41/50\n",
            "39073/39073 [==============================] - 1s 13us/step - loss: -2.7483 - val_loss: -2.7317\n",
            "Epoch 42/50\n",
            "39073/39073 [==============================] - 1s 14us/step - loss: -2.7508 - val_loss: -2.7345\n",
            "Epoch 43/50\n",
            "39073/39073 [==============================] - 1s 14us/step - loss: -2.7537 - val_loss: -2.7368\n",
            "Epoch 44/50\n",
            "39073/39073 [==============================] - 1s 13us/step - loss: -2.7560 - val_loss: -2.7400\n",
            "Epoch 45/50\n",
            "39073/39073 [==============================] - 1s 13us/step - loss: -2.7588 - val_loss: -2.7406\n",
            "Epoch 46/50\n",
            "39073/39073 [==============================] - 1s 13us/step - loss: -2.7608 - val_loss: -2.7426\n",
            "Epoch 47/50\n",
            "39073/39073 [==============================] - 1s 13us/step - loss: -2.7622 - val_loss: -2.7452\n",
            "Epoch 48/50\n",
            "39073/39073 [==============================] - 1s 14us/step - loss: -2.7645 - val_loss: -2.7466\n",
            "Epoch 49/50\n",
            "39073/39073 [==============================] - 1s 14us/step - loss: -2.7662 - val_loss: -2.7480\n",
            "Epoch 50/50\n",
            "39073/39073 [==============================] - 1s 13us/step - loss: -2.7672 - val_loss: -2.7487\n"
          ],
          "name": "stdout"
        }
      ]
    },
    {
      "cell_type": "code",
      "metadata": {
        "id": "G9GoDYQngGe8",
        "colab_type": "code",
        "outputId": "520815a8-38ee-4b76-a1e1-675da173972c",
        "colab": {
          "base_uri": "https://localhost:8080/",
          "height": 265
        }
      },
      "source": [
        "plt.plot(history.history['loss'],label='loss')\n",
        "plt.plot(history.history['val_loss'],label='val_loss')\n",
        "plt.legend()\n",
        "plt.show()\n",
        "plt.close()"
      ],
      "execution_count": 0,
      "outputs": [
        {
          "output_type": "display_data",
          "data": {
            "image/png": "[encoded data removed]",
            "text/plain": [
              "<Figure size 432x288 with 1 Axes>"
            ]
          },
          "metadata": {
            "tags": [],
            "needs_background": "light"
          }
        }
      ]
    },
    {
      "cell_type": "code",
      "metadata": {
        "id": "LGDVZOk5gmSD",
        "colab_type": "code",
        "outputId": "88fbaa42-b9d6-4206-9952-daab08e8256e",
        "colab": {
          "base_uri": "https://localhost:8080/",
          "height": 34
        }
      },
      "source": [
        "encoded_imgs = encoder.predict(X_test) \n",
        "decoded_imgs = decoder.predict(encoded_imgs)  \n",
        "print(encoded_imgs.shape,decoded_imgs.shape)"
      ],
      "execution_count": 0,
      "outputs": [
        {
          "output_type": "stream",
          "text": [
            "(9769, 32) (9769, 88)\n"
          ],
          "name": "stdout"
        }
      ]
    },
    {
      "cell_type": "code",
      "metadata": {
        "id": "rC3oV1hFgwqg",
        "colab_type": "code",
        "outputId": "ef50834c-0f57-42c6-942b-4f9350d574cc",
        "colab": {
          "base_uri": "https://localhost:8080/",
          "height": 272
        }
      },
      "source": [
        "print(decoded_imgs[5])"
      ],
      "execution_count": 0,
      "outputs": [
        {
          "output_type": "stream",
          "text": [
            "[0.         2.0205886  0.         0.         0.43556616 0.\n",
            " 0.         0.8090753  0.         0.         0.         0.\n",
            " 2.2127063  0.         0.         0.         0.         0.\n",
            " 0.         0.         0.         0.         0.         2.3954124\n",
            " 0.         0.         0.         0.         0.         0.\n",
            " 0.         0.         0.         0.         0.         0.\n",
            " 0.         0.         1.7605746  0.         0.         0.\n",
            " 0.         0.         0.         0.         0.         0.\n",
            " 0.         0.         0.         0.         0.         0.\n",
            " 0.         0.         0.         0.         0.         0.\n",
            " 0.         0.         0.         0.         0.         0.\n",
            " 0.         0.         0.         0.         0.         0.\n",
            " 0.         0.         0.         0.         0.         0.\n",
            " 0.         0.         0.         0.         0.         0.\n",
            " 0.         0.26771814 0.         0.        ]\n"
          ],
          "name": "stdout"
        }
      ]
    },
    {
      "cell_type": "code",
      "metadata": {
        "id": "OadAiohehBGM",
        "colab_type": "code",
        "outputId": "7c6ef39a-b34a-4fd1-f5a6-68d3dbbb587d",
        "colab": {
          "base_uri": "https://localhost:8080/",
          "height": 272
        }
      },
      "source": [
        "print(X_test[5])"
      ],
      "execution_count": 0,
      "outputs": [
        {
          "output_type": "stream",
          "text": [
            "[-0.33881125  1.13748937 -0.37453794 -1.97454973  0.70245636 -0.14432673\n",
            "  4.49199132  0.61167571 -0.26184148 -0.01517864 -1.72960143 -0.19126963\n",
            "  3.38695042 -0.20562149 -0.02024    -0.19631672 -0.1160243  -0.07154791\n",
            " -0.10157268 -0.14225345 -0.125514   -0.18269245 -0.20971158  2.25335684\n",
            " -0.1102225  -0.69163424 -0.24047493 -0.0401867  -0.13138162 -0.53547658\n",
            " -0.01824339 -0.38131236 -0.37640961 -0.17853728 -0.20977807 -0.25428213\n",
            " -0.33450275 -0.0704556   2.10902636 -0.14346593 -0.35444857 -0.17577106\n",
            " -0.22695458 -0.58683722 -0.17868986 -0.42940565 -0.34043089 -0.22463841\n",
            " -0.06228607 -0.04910759 -0.04082064 -0.05289096 -0.04641609 -0.03078706\n",
            " -0.05619515 -0.05115986 -0.02771973 -0.0631089  -0.03280347 -0.03986597\n",
            " -0.03855655 -0.00505903 -0.02086318 -0.02530292 -0.0189323  -0.05642385\n",
            " -0.03579519 -0.02771973 -0.04557795 -0.04884505 -0.04385403 -0.02205688\n",
            " -0.14074797 -0.031609   -0.02318932 -0.03201209 -0.07778673 -0.04175364\n",
            " -0.03615183 -0.06039436 -0.02263017 -0.05039995 -0.03615183 -0.02580434\n",
            " -0.02426908  0.30492888 -0.04082064 -0.02263017]\n"
          ],
          "name": "stdout"
        }
      ]
    },
    {
      "cell_type": "code",
      "metadata": {
        "id": "W-XBNUXraW3K",
        "colab_type": "code",
        "outputId": "a84db754-0b5e-46e7-b135-aefb8b9cef25",
        "colab": {
          "base_uri": "https://localhost:8080/",
          "height": 51
        }
      },
      "source": [
        "print(Y_test[5])\n",
        "print(Y_test[6])"
      ],
      "execution_count": 0,
      "outputs": [
        {
          "output_type": "stream",
          "text": [
            "[1]\n",
            "[0]\n"
          ],
          "name": "stdout"
        }
      ]
    },
    {
      "cell_type": "code",
      "metadata": {
        "id": "HOeMSTIqiVN7",
        "colab_type": "code",
        "outputId": "78579bbf-759c-41fc-9540-c391a6d2c71c",
        "colab": {
          "base_uri": "https://localhost:8080/",
          "height": 265
        }
      },
      "source": [
        "plt.plot(decoded_imgs[11],label='Synthetic-1')\n",
        "plt.plot(X_test[11],label='Real-1')\n",
        "filename = os.path.join(path,\"compare1.png\") \n",
        "plt.legend()   \n",
        "plt.savefig(filename)\n",
        "plt.show()\n",
        "plt.close()"
      ],
      "execution_count": 0,
      "outputs": [
        {
          "output_type": "display_data",
          "data": {
            "image/png": "[encoded data removed]",
            "text/plain": [
              "<Figure size 432x288 with 1 Axes>"
            ]
          },
          "metadata": {
            "tags": [],
            "needs_background": "light"
          }
        }
      ]
    },
    {
      "cell_type": "code",
      "metadata": {
        "id": "xOly3WTUaTzR",
        "colab_type": "code",
        "outputId": "f6e3c251-50e4-498d-9d76-b64655d514e8",
        "colab": {
          "base_uri": "https://localhost:8080/",
          "height": 266
        }
      },
      "source": [
        "plt.plot(decoded_imgs[6],label='Synthetic-0')\n",
        "plt.plot(X_test[6],label='Real-0')\n",
        "filename = os.path.join(path,\"compare0.png\") \n",
        "plt.legend()   \n",
        "plt.savefig(filename)\n",
        "plt.show()\n",
        "plt.close()"
      ],
      "execution_count": 0,
      "outputs": [
        {
          "output_type": "display_data",
          "data": {
            "image/png": "[encoded data removed]",
            "text/plain": [
              "<Figure size 432x288 with 1 Axes>"
            ]
          },
          "metadata": {
            "tags": [],
            "needs_background": "light"
          }
        }
      ]
    },
    {
      "cell_type": "code",
      "metadata": {
        "id": "5opK897bl9Cy",
        "colab_type": "code",
        "colab": {}
      },
      "source": [
        "import numpy as np\n",
        "import matplotlib.pyplot as plt\n",
        "import h5py\n",
        "import tensorflow as tf\n",
        "\n",
        "def sigmoid(Z):\n",
        "    \"\"\"\n",
        "    Implements the sigmoid activation in numpy\n",
        "    \n",
        "    Arguments:\n",
        "    Z -- numpy array of any shape\n",
        "    \n",
        "    Returns:\n",
        "    A -- output of sigmoid(z), same shape as Z\n",
        "    cache -- returns Z as well, useful during backpropagation\n",
        "    \"\"\"\n",
        "    \n",
        "    A = 1/(1+np.exp(-Z))\n",
        "    cache = Z\n",
        "    \n",
        "    return A, cache\n",
        "\n",
        "def relu(Z):\n",
        "    \"\"\"\n",
        "    Implement the RELU function.\n",
        "\n",
        "    Arguments:\n",
        "    Z -- Output of the linear layer, of any shape\n",
        "\n",
        "    Returns:\n",
        "    A -- Post-activation parameter, of the same shape as Z\n",
        "    cache -- a python dictionary containing \"A\" ; stored for computing the backward pass efficiently\n",
        "    \"\"\"\n",
        "    \n",
        "    A = np.maximum(0,Z)\n",
        "    \n",
        "    assert(A.shape == Z.shape)\n",
        "    \n",
        "    cache = Z \n",
        "    return A, cache"
      ],
      "execution_count": 0,
      "outputs": []
    },
    {
      "cell_type": "code",
      "metadata": {
        "id": "oBl5J7l8l9Lf",
        "colab_type": "code",
        "colab": {}
      },
      "source": [
        "\n",
        "def relu_backward(dA, cache):\n",
        "    \"\"\"\n",
        "    Implement the backward propagation for a single RELU unit.\n",
        "\n",
        "    Arguments:\n",
        "    dA -- post-activation gradient, of any shape\n",
        "    cache -- 'Z' where we store for computing backward propagation efficiently\n",
        "\n",
        "    Returns:\n",
        "    dZ -- Gradient of the cost with respect to Z\n",
        "    \"\"\"\n",
        "    \n",
        "    Z = cache\n",
        "    dZ = np.array(dA, copy=True) # just converting dz to a correct object.\n",
        "    \n",
        "    # When z <= 0, you should set dz to 0 as well. \n",
        "    dZ[Z <= 0] = 0\n",
        "    \n",
        "    assert (dZ.shape == Z.shape)\n",
        "    \n",
        "    return dZ\n",
        "\n",
        "def sigmoid_backward(dA, cache):\n",
        "    \"\"\"\n",
        "    Implement the backward propagation for a single SIGMOID unit.\n",
        "\n",
        "    Arguments:\n",
        "    dA -- post-activation gradient, of any shape\n",
        "    cache -- 'Z' where we store for computing backward propagation efficiently\n",
        "\n",
        "    Returns:\n",
        "    dZ -- Gradient of the cost with respect to Z\n",
        "    \"\"\"\n",
        "    \n",
        "    Z = cache\n",
        "    \n",
        "    s = 1/(1+np.exp(-Z))\n",
        "    dZ = dA * s * (1-s)\n",
        "    \n",
        "    assert (dZ.shape == Z.shape)\n",
        "    \n",
        "    return dZ"
      ],
      "execution_count": 0,
      "outputs": []
    },
    {
      "cell_type": "code",
      "metadata": {
        "id": "40ZuBQCNl9OW",
        "colab_type": "code",
        "colab": {}
      },
      "source": [
        "def initialize_parameters(n_x, n_h, n_y):\n",
        "    \"\"\"\n",
        "    Argument:\n",
        "    n_x -- size of the input layer\n",
        "    n_h -- size of the hidden layer\n",
        "    n_y -- size of the output layer\n",
        "    \n",
        "    Returns:\n",
        "    parameters -- python dictionary containing your parameters:\n",
        "                    W1 -- weight matrix of shape (n_h, n_x)\n",
        "                    b1 -- bias vector of shape (n_h, 1)\n",
        "                    W2 -- weight matrix of shape (n_y, n_h)\n",
        "                    b2 -- bias vector of shape (n_y, 1)\n",
        "    \"\"\"\n",
        "    \n",
        "    np.random.seed(1)\n",
        "    \n",
        "    W1 = np.random.randn(n_h, n_x)*0.01\n",
        "    b1 = np.zeros((n_h, 1))\n",
        "    W2 = np.random.randn(n_y, n_h)*0.01\n",
        "    b2 = np.zeros((n_y, 1))\n",
        "    \n",
        "    assert(W1.shape == (n_h, n_x))\n",
        "    assert(b1.shape == (n_h, 1))\n",
        "    assert(W2.shape == (n_y, n_h))\n",
        "    assert(b2.shape == (n_y, 1))\n",
        "    \n",
        "    parameters = {\"W1\": W1,\n",
        "                  \"b1\": b1,\n",
        "                  \"W2\": W2,\n",
        "                  \"b2\": b2}\n",
        "    \n",
        "    return parameters     "
      ],
      "execution_count": 0,
      "outputs": []
    },
    {
      "cell_type": "code",
      "metadata": {
        "id": "wd7_Z34ql9RY",
        "colab_type": "code",
        "colab": {}
      },
      "source": [
        "def initialize_parameters_deep(layer_dims):\n",
        "    \"\"\"\n",
        "    Arguments:\n",
        "    layer_dims -- python array (list) containing the dimensions of each layer in our network\n",
        "    \n",
        "    Returns:\n",
        "    parameters -- python dictionary containing your parameters \"W1\", \"b1\", ..., \"WL\", \"bL\":\n",
        "                    Wl -- weight matrix of shape (layer_dims[l], layer_dims[l-1])\n",
        "                    bl -- bias vector of shape (layer_dims[l], 1)\n",
        "    \"\"\"\n",
        "    \n",
        "    np.random.seed(1)\n",
        "    parameters = {}\n",
        "    L = len(layer_dims)            # number of layers in the network\n",
        "\n",
        "    for l in range(1, L):\n",
        "        parameters['W' + str(l)] = np.random.randn(layer_dims[l], layer_dims[l-1]) / np.sqrt(layer_dims[l-1]) #*0.01\n",
        "        parameters['b' + str(l)] = np.zeros((layer_dims[l], 1))\n",
        "        \n",
        "        assert(parameters['W' + str(l)].shape == (layer_dims[l], layer_dims[l-1]))\n",
        "        assert(parameters['b' + str(l)].shape == (layer_dims[l], 1))\n",
        "\n",
        "        \n",
        "    return parameters"
      ],
      "execution_count": 0,
      "outputs": []
    },
    {
      "cell_type": "code",
      "metadata": {
        "id": "eUv0M4V2mKze",
        "colab_type": "code",
        "colab": {}
      },
      "source": [
        "def linear_forward(A, W, b):\n",
        "    \"\"\"\n",
        "    Implement the linear part of a layer's forward propagation.\n",
        "\n",
        "    Arguments:\n",
        "    A -- activations from previous layer (or input data): (size of previous layer, number of examples)\n",
        "    W -- weights matrix: numpy array of shape (size of current layer, size of previous layer)\n",
        "    b -- bias vector, numpy array of shape (size of the current layer, 1)\n",
        "\n",
        "    Returns:\n",
        "    Z -- the input of the activation function, also called pre-activation parameter \n",
        "    cache -- a python dictionary containing \"A\", \"W\" and \"b\" ; stored for computing the backward pass efficiently\n",
        "    \"\"\"\n",
        "    \n",
        "    Z = W.dot(A) + b\n",
        "    \n",
        "    assert(Z.shape == (W.shape[0], A.shape[1]))\n",
        "    cache = (A, W, b)\n",
        "    \n",
        "    return Z, cache"
      ],
      "execution_count": 0,
      "outputs": []
    },
    {
      "cell_type": "code",
      "metadata": {
        "id": "WuekrRkul9UQ",
        "colab_type": "code",
        "colab": {}
      },
      "source": [
        "def linear_activation_forward(A_prev, W, b, activation):\n",
        "    \"\"\"\n",
        "    Implement the forward propagation for the LINEAR->ACTIVATION layer\n",
        "\n",
        "    Arguments:\n",
        "    A_prev -- activations from previous layer (or input data): (size of previous layer, number of examples)\n",
        "    W -- weights matrix: numpy array of shape (size of current layer, size of previous layer)\n",
        "    b -- bias vector, numpy array of shape (size of the current layer, 1)\n",
        "    activation -- the activation to be used in this layer, stored as a text string: \"sigmoid\" or \"relu\"\n",
        "\n",
        "    Returns:\n",
        "    A -- the output of the activation function, also called the post-activation value \n",
        "    cache -- a python dictionary containing \"linear_cache\" and \"activation_cache\";\n",
        "             stored for computing the backward pass efficiently\n",
        "    \"\"\"\n",
        "    \n",
        "    if activation == \"sigmoid\":\n",
        "        # Inputs: \"A_prev, W, b\". Outputs: \"A, activation_cache\".\n",
        "        Z, linear_cache = linear_forward(A_prev, W, b)\n",
        "        A, activation_cache = sigmoid(Z)\n",
        "    \n",
        "    elif activation == \"relu\":\n",
        "        # Inputs: \"A_prev, W, b\". Outputs: \"A, activation_cache\".\n",
        "        Z, linear_cache = linear_forward(A_prev, W, b)\n",
        "        A, activation_cache = relu(Z)\n",
        "    \n",
        "    assert (A.shape == (W.shape[0], A_prev.shape[1]))\n",
        "    cache = (linear_cache, activation_cache)\n",
        "\n",
        "    return A, cache"
      ],
      "execution_count": 0,
      "outputs": []
    },
    {
      "cell_type": "code",
      "metadata": {
        "id": "anualpF7l9XC",
        "colab_type": "code",
        "colab": {}
      },
      "source": [
        "def L_model_forward(X, parameters):\n",
        "    \"\"\"\n",
        "    Implement forward propagation for the [LINEAR->RELU]*(L-1)->LINEAR->SIGMOID computation\n",
        "    \n",
        "    Arguments:\n",
        "    X -- data, numpy array of shape (input size, number of examples)\n",
        "    parameters -- output of initialize_parameters_deep()\n",
        "    \n",
        "    Returns:\n",
        "    AL -- last post-activation value\n",
        "    caches -- list of caches containing:\n",
        "                every cache of linear_relu_forward() (there are L-1 of them, indexed from 0 to L-2)\n",
        "                the cache of linear_sigmoid_forward() (there is one, indexed L-1)\n",
        "    \"\"\"\n",
        "\n",
        "    caches = []\n",
        "    A = X\n",
        "    L = len(parameters) // 2                  # number of layers in the neural network\n",
        "    \n",
        "    # Implement [LINEAR -> RELU]*(L-1). Add \"cache\" to the \"caches\" list.\n",
        "    for l in range(1, L):\n",
        "        A_prev = A \n",
        "        A, cache = linear_activation_forward(A_prev, parameters['W' + str(l)], parameters['b' + str(l)], activation = \"relu\")\n",
        "        caches.append(cache)\n",
        "    \n",
        "    # Implement LINEAR -> SIGMOID. Add \"cache\" to the \"caches\" list.\n",
        "    AL, cache = linear_activation_forward(A, parameters['W' + str(L)], parameters['b' + str(L)], activation = \"sigmoid\")\n",
        "    caches.append(cache)\n",
        "    \n",
        "    assert(AL.shape == (1,X.shape[1]))\n",
        "            \n",
        "    return AL, caches"
      ],
      "execution_count": 0,
      "outputs": []
    },
    {
      "cell_type": "code",
      "metadata": {
        "id": "ismeFUGjmSx0",
        "colab_type": "code",
        "colab": {}
      },
      "source": [
        "def compute_cost(AL, Y):\n",
        "    \"\"\"\n",
        "    Implement the cost function defined by equation (7).\n",
        "\n",
        "    Arguments:\n",
        "    AL -- probability vector corresponding to your label predictions, shape (1, number of examples)\n",
        "    Y -- true \"label\" vector (for example: containing 0 if non-cat, 1 if cat), shape (1, number of examples)\n",
        "\n",
        "    Returns:\n",
        "    cost -- cross-entropy cost\n",
        "    \"\"\"\n",
        "    \n",
        "    m = Y.shape[1]\n",
        "\n",
        "    # Compute loss from aL and y.\n",
        "    cost = (1./m) * (-np.dot(Y,np.log(AL).T) - np.dot(1-Y, np.log(1-AL).T))\n",
        "    \n",
        "    cost = np.squeeze(cost)      # To make sure your cost's shape is what we expect (e.g. this turns [[17]] into 17).\n",
        "    assert(cost.shape == ())\n",
        "    \n",
        "    return cost\n"
      ],
      "execution_count": 0,
      "outputs": []
    },
    {
      "cell_type": "code",
      "metadata": {
        "id": "rlvv_mbJmVWA",
        "colab_type": "code",
        "colab": {}
      },
      "source": [
        "def linear_backward(dZ, cache):\n",
        "    \"\"\"\n",
        "    Implement the linear portion of backward propagation for a single layer (layer l)\n",
        "\n",
        "    Arguments:\n",
        "    dZ -- Gradient of the cost with respect to the linear output (of current layer l)\n",
        "    cache -- tuple of values (A_prev, W, b) coming from the forward propagation in the current layer\n",
        "\n",
        "    Returns:\n",
        "    dA_prev -- Gradient of the cost with respect to the activation (of the previous layer l-1), same shape as A_prev\n",
        "    dW -- Gradient of the cost with respect to W (current layer l), same shape as W\n",
        "    db -- Gradient of the cost with respect to b (current layer l), same shape as b\n",
        "    \"\"\"\n",
        "    A_prev, W, b = cache\n",
        "    m = A_prev.shape[1]\n",
        "\n",
        "    dW = 1./m * np.dot(dZ,A_prev.T)\n",
        "    db = 1./m * np.sum(dZ, axis = 1, keepdims = True)\n",
        "    dA_prev = np.dot(W.T,dZ)\n",
        "    \n",
        "    assert (dA_prev.shape == A_prev.shape)\n",
        "    assert (dW.shape == W.shape)\n",
        "    assert (db.shape == b.shape)\n",
        "    \n",
        "    return dA_prev, dW, db\n",
        "\n"
      ],
      "execution_count": 0,
      "outputs": []
    },
    {
      "cell_type": "code",
      "metadata": {
        "id": "s0-P-16XmYNc",
        "colab_type": "code",
        "colab": {}
      },
      "source": [
        "def linear_activation_backward(dA, cache, activation):\n",
        "    \"\"\"\n",
        "    Implement the backward propagation for the LINEAR->ACTIVATION layer.\n",
        "    \n",
        "    Arguments:\n",
        "    dA -- post-activation gradient for current layer l \n",
        "    cache -- tuple of values (linear_cache, activation_cache) we store for computing backward propagation efficiently\n",
        "    activation -- the activation to be used in this layer, stored as a text string: \"sigmoid\" or \"relu\"\n",
        "    \n",
        "    Returns:\n",
        "    dA_prev -- Gradient of the cost with respect to the activation (of the previous layer l-1), same shape as A_prev\n",
        "    dW -- Gradient of the cost with respect to W (current layer l), same shape as W\n",
        "    db -- Gradient of the cost with respect to b (current layer l), same shape as b\n",
        "    \"\"\"\n",
        "    linear_cache, activation_cache = cache\n",
        "    \n",
        "    if activation == \"relu\":\n",
        "        dZ = relu_backward(dA, activation_cache)\n",
        "        dA_prev, dW, db = linear_backward(dZ, linear_cache)\n",
        "        \n",
        "    elif activation == \"sigmoid\":\n",
        "        dZ = sigmoid_backward(dA, activation_cache)\n",
        "        dA_prev, dW, db = linear_backward(dZ, linear_cache)\n",
        "    \n",
        "    return dA_prev, dW, db\n",
        "\n"
      ],
      "execution_count": 0,
      "outputs": []
    },
    {
      "cell_type": "code",
      "metadata": {
        "id": "zjnAlJJOmavY",
        "colab_type": "code",
        "colab": {}
      },
      "source": [
        "def L_model_backward(AL, Y, caches):\n",
        "    \"\"\"\n",
        "    Implement the backward propagation for the [LINEAR->RELU] * (L-1) -> LINEAR -> SIGMOID group\n",
        "    \n",
        "    Arguments:\n",
        "    AL -- probability vector, output of the forward propagation (L_model_forward())\n",
        "    Y -- true \"label\" vector (containing 0 if non-cat, 1 if cat)\n",
        "    caches -- list of caches containing:\n",
        "                every cache of linear_activation_forward() with \"relu\" (there are (L-1) or them, indexes from 0 to L-2)\n",
        "                the cache of linear_activation_forward() with \"sigmoid\" (there is one, index L-1)\n",
        "    \n",
        "    Returns:\n",
        "    grads -- A dictionary with the gradients\n",
        "             grads[\"dA\" + str(l)] = ... \n",
        "             grads[\"dW\" + str(l)] = ...\n",
        "             grads[\"db\" + str(l)] = ... \n",
        "    \"\"\"\n",
        "    grads = {}\n",
        "    L = len(caches) # the number of layers\n",
        "    m = AL.shape[1]\n",
        "    Y = Y.reshape(AL.shape) # after this line, Y is the same shape as AL\n",
        "    \n",
        "    # Initializing the backpropagation\n",
        "    dAL = - (np.divide(Y, AL) - np.divide(1 - Y, 1 - AL))\n",
        "    \n",
        "    # Lth layer (SIGMOID -> LINEAR) gradients. Inputs: \"AL, Y, caches\". Outputs: \"grads[\"dAL\"], grads[\"dWL\"], grads[\"dbL\"]\n",
        "    current_cache = caches[L-1]\n",
        "    grads[\"dA\" + str(L-1)], grads[\"dW\" + str(L)], grads[\"db\" + str(L)] = linear_activation_backward(dAL, current_cache, activation = \"sigmoid\")\n",
        "    \n",
        "    for l in reversed(range(L-1)):\n",
        "        # lth layer: (RELU -> LINEAR) gradients.\n",
        "        current_cache = caches[l]\n",
        "        dA_prev_temp, dW_temp, db_temp = linear_activation_backward(grads[\"dA\" + str(l + 1)], current_cache, activation = \"relu\")\n",
        "        grads[\"dA\" + str(l)] = dA_prev_temp\n",
        "        grads[\"dW\" + str(l + 1)] = dW_temp\n",
        "        grads[\"db\" + str(l + 1)] = db_temp\n",
        "\n",
        "    return grads\n",
        "\n"
      ],
      "execution_count": 0,
      "outputs": []
    },
    {
      "cell_type": "code",
      "metadata": {
        "id": "k_1ShAmbmdO7",
        "colab_type": "code",
        "colab": {}
      },
      "source": [
        "def update_parameters(parameters, grads, learning_rate):\n",
        "    \"\"\"\n",
        "    Update parameters using gradient descent\n",
        "    \n",
        "    Arguments:\n",
        "    parameters -- python dictionary containing your parameters \n",
        "    grads -- python dictionary containing your gradients, output of L_model_backward\n",
        "    \n",
        "    Returns:\n",
        "    parameters -- python dictionary containing your updated parameters \n",
        "                  parameters[\"W\" + str(l)] = ... \n",
        "                  parameters[\"b\" + str(l)] = ...\n",
        "    \"\"\"\n",
        "    \n",
        "    L = len(parameters) // 2 # number of layers in the neural network\n",
        "    sigma = 0.1\n",
        "\n",
        "    # Update rule for each parameter. Use a for loop.\n",
        "    for l in range(L):\n",
        "        \n",
        "        parameters[\"W\" + str(l+1)] = parameters[\"W\" + str(l+1)] - learning_rate * grads[\"dW\" + str(l+1)]\n",
        "        parameters[\"b\" + str(l+1)] = parameters[\"b\" + str(l+1)] - learning_rate * grads[\"db\" + str(l+1)]\n",
        "    \n",
        "    return parameters\n",
        "\n",
        "\n",
        "\n",
        "# This is a modification of L model forward function I design for my scheme\n"
      ],
      "execution_count": 0,
      "outputs": []
    },
    {
      "cell_type": "code",
      "metadata": {
        "id": "mh6eiu5ymjIh",
        "colab_type": "code",
        "colab": {}
      },
      "source": [
        "def predict(X, y, parameters):\n",
        "    \"\"\"\n",
        "    This function is used to predict the results of a  L-layer neural network.\n",
        "    \n",
        "    Arguments:\n",
        "    X -- data set of examples you would like to label\n",
        "    parameters -- parameters of the trained model\n",
        "    \n",
        "    Returns:\n",
        "    p -- predictions for the given dataset X\n",
        "    \"\"\"\n",
        "    \n",
        "    m = X.shape[1]\n",
        "    n = len(parameters) // 2 # number of layers in the neural network\n",
        "    p = np.zeros((1,m))\n",
        "    \n",
        "      \n",
        "    # Forward propagation  \n",
        "    probas, caches = L_model_forward(X, parameters)\n",
        "\n",
        "    \n",
        "    # convert probas to 0/1 predictions\n",
        "    for i in range(0, probas.shape[1]):\n",
        "        if probas[0,i] > 0.5:\n",
        "            p[0,i] = 1\n",
        "        else:\n",
        "            p[0,i] = 0\n",
        "    \n",
        "    #print results\n",
        "    #print (\"predictions: \" + str(p))\n",
        "    #print (\"true labels: \" + str(y))\n",
        "    print(\"Accuracy: \"  + str(np.sum((p == y)/m)))\n",
        "        \n",
        "    return p"
      ],
      "execution_count": 0,
      "outputs": []
    },
    {
      "cell_type": "code",
      "metadata": {
        "id": "_WlA0-aOmm6K",
        "colab_type": "code",
        "colab": {}
      },
      "source": [
        "def compute_accuracy(AL, Y):\n",
        "    m = AL.shape[1]\n",
        "    #n = len(parameters) // 2 # number of layers in the neural network\n",
        "    p = np.zeros((1,m))\n",
        "    \n",
        "      \n",
        "    # Forward propagation  \n",
        "    #probas, caches = L_model_forward(X, parameters)\n",
        "\n",
        "    \n",
        "    # convert probas to 0/1 predictions\n",
        "    for i in range(0, AL.shape[1]):\n",
        "        if AL[0,i] > 0.5:\n",
        "            p[0,i] = 1\n",
        "        else:\n",
        "            p[0,i] = 0\n",
        "    \n",
        "    #print results\n",
        "    #print (\"predictions: \" + str(p))\n",
        "    #print (\"true labels: \" + str(y))\n",
        "    accuracy = np.sum((p == Y)/m)\n",
        "    \n",
        "    accuracy = np.squeeze(accuracy)      # To make sure your cost's shape is what we expect (e.g. this turns [[17]] into 17).\n",
        "    assert(accuracy.shape == ())\n",
        "    \n",
        "        \n",
        "    return accuracy"
      ],
      "execution_count": 0,
      "outputs": []
    },
    {
      "cell_type": "code",
      "metadata": {
        "id": "eoi0bPoDmp18",
        "colab_type": "code",
        "colab": {}
      },
      "source": [
        "def print_mislabeled_images(classes, X, y, p):\n",
        "    \"\"\"\n",
        "    Plots images where predictions and truth were different.\n",
        "    X -- dataset\n",
        "    y -- true labels\n",
        "    p -- predictions\n",
        "    \"\"\"\n",
        "    a = p + y\n",
        "    mislabeled_indices = np.asarray(np.where(a == 1))\n",
        "    plt.rcParams['figure.figsize'] = (40.0, 40.0) # set default size of plots\n",
        "    num_images = len(mislabeled_indices[0])\n",
        "    for i in range(num_images):\n",
        "        index = mislabeled_indices[1][i]\n",
        "        \n",
        "        plt.subplot(2, num_images, i + 1)\n",
        "        plt.imshow(X[:,index].reshape(64,64,3), interpolation='nearest')\n",
        "        plt.axis('off')\n",
        "        plt.title(\"Prediction: \" + classes[int(p[0,index])].decode(\"utf-8\") + \" \\n Class: \" + classes[y[0,index]].decode(\"utf-8\"))"
      ],
      "execution_count": 0,
      "outputs": []
    },
    {
      "cell_type": "code",
      "metadata": {
        "id": "Zb0-Uv_WmsxG",
        "colab_type": "code",
        "colab": {}
      },
      "source": [
        "### CONSTANTS ###\n",
        "layers_dims = [88, 20, 10, 7, 1] #  4-layer model"
      ],
      "execution_count": 0,
      "outputs": []
    },
    {
      "cell_type": "code",
      "metadata": {
        "id": "PgniiR2RmxRm",
        "colab_type": "code",
        "colab": {}
      },
      "source": [
        "# GRADED FUNCTION: L_layer_model\n",
        "\n",
        "def L_layer_model(X, Y, layers_dims, learning_rate, num_iterations, print_cost=False):#lr was 0.009\n",
        "    \"\"\"\n",
        "    Implements a L-layer neural network: [LINEAR->RELU]*(L-1)->LINEAR->SIGMOID.\n",
        "    \n",
        "    Arguments:\n",
        "    X -- data, numpy array of shape (number of examples, num_px * num_px * 3)\n",
        "    Y -- true \"label\" vector (containing 0 if cat, 1 if non-cat), of shape (1, number of examples)\n",
        "    layers_dims -- list containing the input size and each layer size, of length (number of layers + 1).\n",
        "    learning_rate -- learning rate of the gradient descent update rule\n",
        "    num_iterations -- number of iterations of the optimization loop\n",
        "    print_cost -- if True, it prints the cost every 100 steps\n",
        "    \n",
        "    Returns:\n",
        "    parameters -- parameters learnt by the model. They can then be used to predict.\n",
        "    \"\"\"\n",
        "\n",
        "    np.random.seed(1)\n",
        "    costs = []                         # keep track of cost\n",
        "    \n",
        "    # Parameters initialization. (≈ 1 line of code)\n",
        "    ### START CODE HERE ###\n",
        "    parameters = initialize_parameters_deep(layers_dims)\n",
        "    ### END CODE HERE ###\n",
        "    \n",
        "    # Loop (gradient descent)\n",
        "    for i in range(0, num_iterations):\n",
        "\n",
        "        # Forward propagation: [LINEAR -> RELU]*(L-1) -> LINEAR -> SIGMOID.\n",
        "        ### START CODE HERE ### (≈ 1 line of code)\n",
        "        AL, caches = L_model_forward(X, parameters)\n",
        "        ### END CODE HERE ###\n",
        "        \n",
        "        # Compute cost.\n",
        "        ### START CODE HERE ### (≈ 1 line of code)\n",
        "        cost = compute_cost(AL, Y)\n",
        "        ### END CODE HERE ###\n",
        "    \n",
        "        # Backward propagation.\n",
        "        ### START CODE HERE ### (≈ 1 line of code)\n",
        "        grads = L_model_backward(AL, Y, caches)\n",
        "        ### END CODE HERE ###\n",
        " \n",
        "        # Update parameters.\n",
        "        ### START CODE HERE ### (≈ 1 line of code)\n",
        "        parameters = update_parameters(parameters, grads, learning_rate)\n",
        "        ### END CODE HERE ###\n",
        "                \n",
        "        # Print the cost every 100 training example\n",
        "        if print_cost and i % 100 == 0:\n",
        "            print (\"Cost after iteration %i: %f\" %(i, cost))\n",
        "        if print_cost and i % 100 == 0:\n",
        "            costs.append(cost)\n",
        "            \n",
        "    # plot the cost\n",
        "    plt.plot(np.squeeze(costs))\n",
        "    plt.ylabel('cost')\n",
        "    plt.xlabel('iterations (per tens)')\n",
        "    plt.title(\"Learning rate =\" + str(learning_rate))\n",
        "    filename = os.path.join(path,\"noised.png\") \n",
        "    plt.savefig(filename)\n",
        "    plt.show()\n",
        "    \n",
        "    return parameters"
      ],
      "execution_count": 0,
      "outputs": []
    },
    {
      "cell_type": "code",
      "metadata": {
        "id": "wsKVPH0Gnp5C",
        "colab_type": "code",
        "outputId": "7270e796-ca03-4bff-a21e-c91210c4c03b",
        "colab": {
          "base_uri": "https://localhost:8080/",
          "height": 85
        }
      },
      "source": [
        "print(X_train.shape)\n",
        "print(X_test.shape)\n",
        "print(Y_train.shape)\n",
        "print(Y_test.shape)"
      ],
      "execution_count": 0,
      "outputs": [
        {
          "output_type": "stream",
          "text": [
            "(39073, 88)\n",
            "(9769, 88)\n",
            "(39073, 1)\n",
            "(9769, 1)\n"
          ],
          "name": "stdout"
        }
      ]
    },
    {
      "cell_type": "code",
      "metadata": {
        "id": "K0DW8gGnnw_H",
        "colab_type": "code",
        "outputId": "bcaeaed4-7401-4ec6-a3d3-3df4f6ac3045",
        "colab": {
          "base_uri": "https://localhost:8080/",
          "height": 85
        }
      },
      "source": [
        "X_train = X_train.T\n",
        "X_test = X_test.T\n",
        "\n",
        "Y_train = np.reshape(Y_train,(1,Y_train.shape[0]))\n",
        "Y_test = np.reshape(Y_test,(1,Y_test.shape[0]))\n",
        "\n",
        "print(X_train.shape)\n",
        "print(X_test.shape)\n",
        "print(Y_train.shape)\n",
        "print(Y_test.shape)"
      ],
      "execution_count": 0,
      "outputs": [
        {
          "output_type": "stream",
          "text": [
            "(88, 39073)\n",
            "(88, 9769)\n",
            "(1, 39073)\n",
            "(1, 9769)\n"
          ],
          "name": "stdout"
        }
      ]
    },
    {
      "cell_type": "code",
      "metadata": {
        "id": "Q91IZkVnmzpj",
        "colab_type": "code",
        "outputId": "c2ae2ad4-e60d-49c0-f8dd-3b1310ae2996",
        "colab": {
          "base_uri": "https://localhost:8080/",
          "height": 255
        }
      },
      "source": [
        "parameters = L_layer_model(X_train, Y_train, layers_dims, learning_rate= 0.09, num_iterations = 3000, print_cost = True)"
      ],
      "execution_count": 0,
      "outputs": [
        {
          "output_type": "stream",
          "text": [
            "Cost after iteration 0: 0.716555\n",
            "Cost after iteration 100: 0.505791\n",
            "Cost after iteration 200: 0.406006\n",
            "Cost after iteration 300: 0.364134\n",
            "Cost after iteration 400: 0.346922\n",
            "Cost after iteration 500: 0.336441\n",
            "Cost after iteration 600: 0.328713\n",
            "Cost after iteration 700: 0.323038\n",
            "Cost after iteration 800: 0.318584\n",
            "Cost after iteration 900: 0.315118\n",
            "Cost after iteration 1000: 0.312545\n",
            "Cost after iteration 1100: 0.310519\n",
            "Cost after iteration 1200: 0.308930\n",
            "Cost after iteration 1300: 0.307662\n"
          ],
          "name": "stdout"
        }
      ]
    },
    {
      "cell_type": "code",
      "metadata": {
        "id": "cqWsaW_Ko_6_",
        "colab_type": "code",
        "colab": {}
      },
      "source": [
        "print(decoded_imgs.shape)\n",
        "decoded_imgs = decoded_imgs.T\n",
        "print(decoded_imgs.shape)"
      ],
      "execution_count": 0,
      "outputs": []
    },
    {
      "cell_type": "code",
      "metadata": {
        "id": "00jLAw0VnGCq",
        "colab_type": "code",
        "colab": {}
      },
      "source": [
        "pred_train = predict(decoded_imgs, Y_test, parameters)"
      ],
      "execution_count": 0,
      "outputs": []
    }
  ]
}